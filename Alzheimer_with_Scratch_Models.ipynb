{
  "cells": [
    {
      "cell_type": "markdown",
      "metadata": {
        "id": "view-in-github",
        "colab_type": "text"
      },
      "source": [
        "<a href=\"https://colab.research.google.com/github/tijazz/Image_Processing/blob/main/Alzheimer_with_Scratch_Models.ipynb\" target=\"_parent\"><img src=\"https://colab.research.google.com/assets/colab-badge.svg\" alt=\"Open In Colab\"/></a>"
      ]
    },
    {
      "cell_type": "code",
      "execution_count": null,
      "metadata": {
        "id": "L3uiVws2rDEB"
      },
      "outputs": [],
      "source": [
        "##########################################################################\n",
        "# This project uses data from the following Kaggle dataset:\n",
        "# https://www.kaggle.com/tourist55/alzheimers-dataset-4-class-of-images\n",
        "#\n",
        "# This code was originally run in Google Colab\n",
        "# but should be able to be repurposed and run anywhere.\n",
        "# Some packages such as google.colab.patches.cv2_imshow should be changed\n",
        "# if run outside of a Google Colab environment.\n",
        "##########################################################################\n",
        "\n",
        "##########################################################################\n",
        "# Importing Necessary Packages\n",
        "##########################################################################\n",
        "\n",
        "import pandas as pd\n",
        "import numpy as np\n",
        "import os\n",
        "import tensorflow as tf\n",
        "import cv2\n",
        "import keras\n",
        "from keras.models import Sequential, Model\n",
        "from keras.layers import Conv2D, MaxPooling2D, MaxPool2D, Flatten, Dense, Dropout\n",
        "from keras.callbacks import EarlyStopping, ModelCheckpoint\n",
        "from keras.optimizers import RMSprop\n",
        "from keras.preprocessing import image\n",
        "from  matplotlib import pyplot as plt\n",
        "import matplotlib.image as mpimg\n",
        "get_ipython().run_line_magic('matplotlib', 'inline')\n",
        "from skimage.io import imread\n",
        "from sklearn.model_selection import train_test_split\n",
        "import os\n",
        "from sklearn.preprocessing import MinMaxScaler\n",
        "from sklearn.preprocessing import LabelBinarizer\n",
        "from sklearn.metrics import classification_report, confusion_matrix\n",
        "import seaborn as sns\n",
        "from google.colab.patches import cv2_imshow\n"
      ]
    },
    {
      "cell_type": "code",
      "execution_count": null,
      "metadata": {
        "id": "ByTQL2Yyrch3"
      },
      "outputs": [],
      "source": [
        "!unzip -uq \"/content/Alzheimer_Dataset.zip\" -d \"/content/\""
      ]
    },
    {
      "cell_type": "code",
      "execution_count": null,
      "metadata": {
        "colab": {
          "base_uri": "https://localhost:8080/"
        },
        "id": "xyx-FeNosvaz",
        "outputId": "5b4327db-c9b6-466f-d86b-0d3eeb6318e9"
      },
      "outputs": [
        {
          "name": "stdout",
          "output_type": "stream",
          "text": [
            "Found 5121 files belonging to 4 classes.\n",
            "Using 4097 files for training.\n",
            "Found 5121 files belonging to 4 classes.\n",
            "Using 1024 files for validation.\n",
            "Found 1279 files belonging to 4 classes.\n"
          ]
        }
      ],
      "source": [
        "\n",
        "##########################################################################\n",
        "# First CNN\n",
        "#\n",
        "# This first model was built from scratch.\n",
        "# The data was used based on how it was pre-split by Kaggle.\n",
        "##########################################################################\n",
        "\n",
        "# Read in the dataset\n",
        "\n",
        "train_set = tf.keras.preprocessing.image_dataset_from_directory(\"/content/Alzheimer_Dataset/train\",\n",
        "                                                            validation_split = 0.2,\n",
        "                                                            subset = 'training',\n",
        "                                                            seed = 50,\n",
        "                                                            image_size = (208, 176),\n",
        "                                                            batch_size = 10)\n",
        "validation_set = tf.keras.preprocessing.image_dataset_from_directory(\"/content/Alzheimer_Dataset/train\",\n",
        "                                                            validation_split = 0.2,\n",
        "                                                            subset = 'validation',\n",
        "                                                            seed = 50,\n",
        "                                                            image_size = (208, 176),\n",
        "                                                            batch_size = 10)\n",
        "test_set = tf.keras.preprocessing.image_dataset_from_directory(\"/content/Alzheimer_Dataset/test\",\n",
        "                                                            seed = 50,\n",
        "                                                            image_size = (208, 176),\n",
        "                                                            batch_size = 10)\n"
      ]
    },
    {
      "cell_type": "code",
      "execution_count": null,
      "metadata": {
        "id": "ylrba1EQtA8i"
      },
      "outputs": [],
      "source": [
        "# Set the class names\n",
        "\n",
        "class_names = ['MildDementia', 'ModerateDementia', 'NonDementia', 'VeryMildDementia']\n",
        "train_set.class_names = class_names\n",
        "test_set.class_names = class_names\n",
        "validation_set.class_names = class_names\n"
      ]
    },
    {
      "cell_type": "code",
      "execution_count": null,
      "metadata": {
        "id": "iCWlssS0ZqVM"
      },
      "outputs": [],
      "source": [
        "# One-Hot encode the target (labels)\n",
        "\n",
        "def one_hot_label(image, label):\n",
        "    label = tf.one_hot(label, 4)\n",
        "    return image, label\n",
        "    \n",
        "train_ds = train_set.map(one_hot_label)\n",
        "validation_ds = validation_set.map(one_hot_label)\n",
        "test_ds = test_set.map(one_hot_label)"
      ]
    },
    {
      "cell_type": "code",
      "execution_count": null,
      "metadata": {
        "colab": {
          "base_uri": "https://localhost:8080/"
        },
        "id": "D4kR2AhmZwCh",
        "outputId": "9a67fc91-ab2e-48b0-fd78-fd67270dc5dd"
      },
      "outputs": [
        {
          "name": "stdout",
          "output_type": "stream",
          "text": [
            "Model: \"sequential\"\n",
            "_________________________________________________________________\n",
            " Layer (type)                Output Shape              Param #   \n",
            "=================================================================\n",
            " conv2d (Conv2D)             (None, 206, 174, 16)      448       \n",
            "                                                                 \n",
            " max_pooling2d (MaxPooling2D  (None, 103, 87, 16)      0         \n",
            " )                                                               \n",
            "                                                                 \n",
            " conv2d_1 (Conv2D)           (None, 101, 85, 32)       4640      \n",
            "                                                                 \n",
            " max_pooling2d_1 (MaxPooling  (None, 50, 42, 32)       0         \n",
            " 2D)                                                             \n",
            "                                                                 \n",
            " conv2d_2 (Conv2D)           (None, 48, 40, 64)        18496     \n",
            "                                                                 \n",
            " max_pooling2d_2 (MaxPooling  (None, 24, 20, 64)       0         \n",
            " 2D)                                                             \n",
            "                                                                 \n",
            " flatten (Flatten)           (None, 30720)             0         \n",
            "                                                                 \n",
            " dense (Dense)               (None, 128)               3932288   \n",
            "                                                                 \n",
            " dropout (Dropout)           (None, 128)               0         \n",
            "                                                                 \n",
            " dense_1 (Dense)             (None, 64)                8256      \n",
            "                                                                 \n",
            " dropout_1 (Dropout)         (None, 64)                0         \n",
            "                                                                 \n",
            " dense_2 (Dense)             (None, 4)                 260       \n",
            "                                                                 \n",
            "=================================================================\n",
            "Total params: 3,964,388\n",
            "Trainable params: 3,964,388\n",
            "Non-trainable params: 0\n",
            "_________________________________________________________________\n"
          ]
        }
      ],
      "source": [
        "# Set up CNN Classifier using 'adam' optimizer,\n",
        "# categorical cross entropy loss function, and AUC + accuracy as metrics\n",
        "# with Early Stopping criteria\n",
        "\n",
        "classifier= Sequential([Conv2D(16, kernel_size=3, padding='valid', activation='relu', input_shape=(208,176,3)),\n",
        "                        MaxPool2D(pool_size = (2,2)),\n",
        "                        Conv2D(32, kernel_size=3, padding='valid', activation='relu'),\n",
        "                        MaxPool2D(pool_size = (2,2)),\n",
        "                        Conv2D(64, kernel_size=3, padding='valid', activation='relu'),\n",
        "                        MaxPool2D(pool_size = (2,2)),\n",
        "                        Flatten(),\n",
        "                        Dense(128, activation='relu'),\n",
        "                        Dropout(.5),\n",
        "                        Dense(64, activation='relu'),\n",
        "                        Dropout(.5),\n",
        "                        Dense(4, activation='softmax')])\n",
        "\n",
        "classifier.compile(optimizer = 'adam', loss= 'categorical_crossentropy', metrics =['AUC', 'accuracy', 'CategoricalAccuracy'])\n",
        "es = EarlyStopping(monitor='val_loss', mode='min', patience=10, restore_best_weights=True, verbose=1)\n",
        "classifier.summary()"
      ]
    },
    {
      "cell_type": "code",
      "execution_count": null,
      "metadata": {
        "colab": {
          "background_save": true,
          "base_uri": "https://localhost:8080/"
        },
        "id": "X0LZcZ8eZ5u0",
        "outputId": "68da47a1-3940-40b4-f3c3-46fd9f94ce0f"
      },
      "outputs": [
        {
          "name": "stdout",
          "output_type": "stream",
          "text": [
            "Epoch 1/10\n"
          ]
        },
        {
          "name": "stderr",
          "output_type": "stream",
          "text": [
            "<ipython-input-7-2d65fbe9e1f2>:3: UserWarning: `Model.fit_generator` is deprecated and will be removed in a future version. Please use `Model.fit`, which supports generators.\n",
            "  history = classifier.fit_generator(train_ds, epochs = 10, validation_data= validation_ds, callbacks=[es])\n"
          ]
        },
        {
          "name": "stdout",
          "output_type": "stream",
          "text": [
            "410/410 [==============================] - 162s 390ms/step - loss: 4.0063 - auc: 0.7396 - accuracy: 0.4515 - categorical_accuracy: 0.4515 - val_loss: 1.0157 - val_auc: 0.8148 - val_accuracy: 0.5176 - val_categorical_accuracy: 0.5176\n",
            "Epoch 2/10\n",
            "410/410 [==============================] - 154s 375ms/step - loss: 1.0627 - auc: 0.7812 - accuracy: 0.4818 - categorical_accuracy: 0.4818 - val_loss: 0.9820 - val_auc: 0.8170 - val_accuracy: 0.5186 - val_categorical_accuracy: 0.5186\n",
            "Epoch 3/10\n",
            "410/410 [==============================] - 161s 393ms/step - loss: 1.0360 - auc: 0.7897 - accuracy: 0.4865 - categorical_accuracy: 0.4865 - val_loss: 0.9756 - val_auc: 0.8198 - val_accuracy: 0.5186 - val_categorical_accuracy: 0.5186\n",
            "Epoch 4/10\n",
            "410/410 [==============================] - 159s 387ms/step - loss: 1.0169 - auc: 0.8003 - accuracy: 0.5001 - categorical_accuracy: 0.5001 - val_loss: 0.9647 - val_auc: 0.8285 - val_accuracy: 0.5342 - val_categorical_accuracy: 0.5342\n",
            "Epoch 5/10\n",
            "410/410 [==============================] - 153s 373ms/step - loss: 0.9936 - auc: 0.8091 - accuracy: 0.5211 - categorical_accuracy: 0.5211 - val_loss: 0.8923 - val_auc: 0.8450 - val_accuracy: 0.5420 - val_categorical_accuracy: 0.5420\n",
            "Epoch 6/10\n",
            "410/410 [==============================] - 151s 368ms/step - loss: 0.9696 - auc: 0.8185 - accuracy: 0.5167 - categorical_accuracy: 0.5167 - val_loss: 0.8504 - val_auc: 0.8598 - val_accuracy: 0.5762 - val_categorical_accuracy: 0.5762\n",
            "Epoch 7/10\n",
            "410/410 [==============================] - 150s 365ms/step - loss: 0.9045 - auc: 0.8443 - accuracy: 0.5643 - categorical_accuracy: 0.5643 - val_loss: 0.8128 - val_auc: 0.8784 - val_accuracy: 0.6152 - val_categorical_accuracy: 0.6152\n",
            "Epoch 8/10\n",
            "410/410 [==============================] - 154s 375ms/step - loss: 0.8626 - auc: 0.8587 - accuracy: 0.5873 - categorical_accuracy: 0.5873 - val_loss: 0.7731 - val_auc: 0.8895 - val_accuracy: 0.6426 - val_categorical_accuracy: 0.6426\n",
            "Epoch 9/10\n",
            "410/410 [==============================] - 155s 377ms/step - loss: 0.8247 - auc: 0.8741 - accuracy: 0.6212 - categorical_accuracy: 0.6212 - val_loss: 0.7193 - val_auc: 0.9044 - val_accuracy: 0.6602 - val_categorical_accuracy: 0.6602\n",
            "Epoch 10/10\n",
            "410/410 [==============================] - 155s 377ms/step - loss: 0.7824 - auc: 0.8899 - accuracy: 0.6529 - categorical_accuracy: 0.6529 - val_loss: 0.7176 - val_auc: 0.9045 - val_accuracy: 0.6621 - val_categorical_accuracy: 0.6621\n"
          ]
        }
      ],
      "source": [
        "# Fit CNN default (epochs = 60)\n",
        "\n",
        "history = classifier.fit_generator(train_ds, epochs = 10, validation_data= validation_ds, callbacks=[es])"
      ]
    },
    {
      "cell_type": "code",
      "execution_count": null,
      "metadata": {
        "colab": {
          "background_save": true
        },
        "id": "NjATUVfGaAiP",
        "outputId": "345cca25-6d52-4d5e-a7e2-1aa704c80422"
      },
      "outputs": [
        {
          "name": "stdout",
          "output_type": "stream",
          "text": [
            "128/128 [==============================] - 14s 105ms/step - loss: 0.9906 - auc: 0.8328 - accuracy: 0.5551 - categorical_accuracy: 0.5551\n"
          ]
        },
        {
          "data": {
            "text/plain": [
              "[0.9905753135681152,\n",
              " 0.8328334093093872,\n",
              " 0.5551211833953857,\n",
              " 0.5551211833953857]"
            ]
          },
          "execution_count": 8,
          "metadata": {},
          "output_type": "execute_result"
        }
      ],
      "source": [
        "# Evaluate the CNN on the test data\n",
        "\n",
        "classifier.evaluate(test_ds)"
      ]
    },
    {
      "cell_type": "code",
      "execution_count": null,
      "metadata": {
        "colab": {
          "background_save": true
        },
        "id": "YJVnCLwuaF7D",
        "outputId": "5a996c93-49c2-41c9-8a43-2d694e1f7aff"
      },
      "outputs": [
        {
          "data": {
            "image/png": "[encoded data removed]",
            "text/plain": [
              "<Figure size 432x288 with 1 Axes>"
            ]
          },
          "metadata": {},
          "output_type": "display_data"
        },
        {
          "data": {
            "image/png": "[encoded data removed]",
            "text/plain": [
              "<Figure size 432x288 with 1 Axes>"
            ]
          },
          "metadata": {},
          "output_type": "display_data"
        }
      ],
      "source": [
        "# Plot the accuracy and the loss curves\n",
        "\n",
        "acc = history.history['accuracy']\n",
        "val_acc = history.history['val_accuracy']\n",
        "loss = history.history['loss']\n",
        "val_loss = history.history['val_loss']\n",
        "epochs = range(1, len(acc) + 1)\n",
        "plt.plot(epochs, acc, label='Training acc')\n",
        "plt.plot(epochs, val_acc, label='Validation acc')\n",
        "plt.title('Training and validation accuracy')\n",
        "plt.legend()\n",
        "plt.figure()\n",
        "plt.plot(epochs, loss, label='Training loss')\n",
        "plt.plot(epochs, val_loss, label='Validation loss')\n",
        "plt.title('Training and validation loss')\n",
        "plt.legend()\n",
        "plt.show()"
      ]
    },
    {
      "cell_type": "code",
      "execution_count": null,
      "metadata": {
        "colab": {
          "background_save": true
        },
        "id": "4Zr6elhjaOCO"
      },
      "outputs": [],
      "source": [
        "##########################################################################\n",
        "# Re-splitting the data\n",
        "##########################################################################\n",
        "\n",
        "# Read in all data again\n",
        "\n",
        "train_nd_dir = '/content/Alzheimer_Dataset/train/NonDemented/'\n",
        "train_vmild_dir = '/content/Alzheimer_Dataset/train/VeryMildDemented/'\n",
        "train_mild_dir = '/content/Alzheimer_Dataset/train/MildDemented/'\n",
        "train_mod_dir = '/content/Alzheimer_Dataset/train/ModerateDemented/'\n",
        "test_nd_dir = '/content/Alzheimer_Dataset/test/NonDemented/'\n",
        "test_vmild_dir = '/content/Alzheimer_Dataset/test/VeryMildDemented/'\n",
        "test_mild_dir = '/content/Alzheimer_Dataset/test/MildDemented/'\n",
        "test_mod_dir = '/content/Alzheimer_Dataset/test/ModerateDemented/'\n",
        "\n",
        "train_x = []\n",
        "train_y = []\n",
        "test_x = []\n",
        "test_y = []\n",
        "\n",
        "#Changing the color of the image to gray\n",
        "\n",
        "for image_path in os.listdir(train_nd_dir):\n",
        "  img = imread(train_nd_dir + image_path, as_gray=True)\n",
        "  img = img.astype('float32')\n",
        "  img /= 255.0\n",
        "  train_x.append(img)\n",
        "  train_y.append('ND')\n",
        "  \n",
        "for image_path in os.listdir(train_vmild_dir):\n",
        "  img = imread(train_vmild_dir+image_path, as_gray=True)\n",
        "  img = img.astype('float32')\n",
        "  img /= 255.0\n",
        "  train_x.append(img)\n",
        "  train_y.append('VMILD')\n",
        "\n",
        "for image_path in os.listdir(train_mild_dir):\n",
        "  img = imread(train_mild_dir+image_path, as_gray=True)\n",
        "  img = img.astype('float32')\n",
        "  img /= 255.0\n",
        "  train_x.append(img)\n",
        "  train_y.append('MILD')\n",
        "\n",
        "for image_path in os.listdir(train_mod_dir):\n",
        "  img = imread(train_mod_dir+image_path, as_gray=True)\n",
        "  img = img.astype('float32')\n",
        "  img /= 255.0\n",
        "  train_x.append(img)\n",
        "  train_y.append('MOD')\n",
        "\n",
        "for image_path in os.listdir(test_nd_dir):\n",
        "  img = imread(test_nd_dir+image_path, as_gray=True)\n",
        "  img = img.astype('float32')\n",
        "  img /= 255.0\n",
        "  test_x.append(img)\n",
        "  test_y.append('ND')\n",
        "  \n",
        "for image_path in os.listdir(test_vmild_dir):\n",
        "  img = imread(test_vmild_dir+image_path, as_gray=True)\n",
        "  img = img.astype('float32')\n",
        "  img /= 255.0\n",
        "  test_x.append(img)\n",
        "  test_y.append('VMILD')\n",
        "\n",
        "for image_path in os.listdir(test_mild_dir):\n",
        "  img = imread(test_mild_dir+image_path, as_gray=True)\n",
        "  img = img.astype('float32')\n",
        "  img /= 255.0\n",
        "  test_x.append(img)\n",
        "  test_y.append('MILD')\n",
        "\n",
        "for image_path in os.listdir(test_mod_dir):\n",
        "  img = imread(test_mod_dir+image_path, as_gray=True)\n",
        "  img = img.astype('float32')\n",
        "  img /= 255.0\n",
        "  test_x.append(img)\n",
        "  test_y.append('MOD')\n"
      ]
    },
    {
      "cell_type": "code",
      "execution_count": null,
      "metadata": {
        "colab": {
          "background_save": true
        },
        "id": "ydKXV5peaRpd"
      },
      "outputs": [],
      "source": [
        "# Combine all data into one large dataset and one-hot encode labels\n",
        "\n",
        "train_x = np.array(train_x)\n",
        "train_y = np.array(train_y)\n",
        "test_x = np.array(test_x)\n",
        "test_y = np.array(test_y)\n",
        "\n",
        "full_x = np.concatenate((train_x,test_x),axis=0)\n",
        "full_y=np.concatenate((train_y,test_y),axis=0)\n",
        "onehot = LabelBinarizer()\n",
        "full_y = onehot.fit_transform(full_y)\n"
      ]
    },
    {
      "cell_type": "code",
      "execution_count": null,
      "metadata": {
        "colab": {
          "background_save": true
        },
        "id": "3NMu33H2aV5l"
      },
      "outputs": [],
      "source": [
        "# Re-split training and testing data\n",
        "# then split training into training and validation\n",
        "\n",
        "train_x, test_x, train_y, test_y = train_test_split(full_x, full_y, test_size = 0.2, shuffle=True, random_state=33)\n",
        "train_x, val_x, train_y, val_y = train_test_split(train_x, train_y, test_size = 0.2, shuffle=True, random_state=33)\n",
        "train_x.shape, train_y.shape, val_x.shape, val_y.shape, test_x.shape, test_y.shape\n",
        "train_x = np.array(train_x).reshape(4096,208,176,1)\n",
        "val_x = np.array(val_x).reshape(1024,208,176,1)\n",
        "test_x = np.array(test_x).reshape(1280,208,176,1)"
      ]
    },
    {
      "cell_type": "code",
      "execution_count": null,
      "metadata": {
        "colab": {
          "background_save": true
        },
        "id": "SuGP012hagcy",
        "outputId": "2e41bbef-2e78-47cc-be6a-0e8036f8dd0f"
      },
      "outputs": [
        {
          "name": "stdout",
          "output_type": "stream",
          "text": [
            "(4096, 208, 176)\n",
            "(4096, 208, 176, 3)\n",
            "(1024, 208, 176)\n",
            "(1024, 208, 176, 3)\n",
            "(1280, 208, 176)\n",
            "(1280, 208, 176, 3)\n"
          ]
        }
      ],
      "source": [
        "##########################################################################\n",
        "# Transfer Learning\n",
        "#\n",
        "# We set up a transfer learning model using Resnet101\n",
        "##########################################################################\n",
        "\n",
        "# Prepare data for input into Resnet101\n",
        "\n",
        "train_x_tmp = np.array(train_x).reshape(4096,208,176)\n",
        "val_x_tmp = np.array(val_x).reshape(1024,208,176)\n",
        "test_x_tmp = np.array(test_x).reshape(1280,208,176)\n",
        "\n",
        "print(train_x_tmp.shape)\n",
        "train_x_3c = np.repeat(train_x_tmp[..., np.newaxis], 3, -1)\n",
        "print(train_x_3c.shape) \n",
        "print(val_x_tmp.shape)\n",
        "val_x_3c = np.repeat(val_x_tmp[..., np.newaxis], 3, -1)\n",
        "print(val_x_3c.shape)  \n",
        "print(test_x_tmp.shape)\n",
        "test_x_3c = np.repeat(test_x_tmp[..., np.newaxis], 3, -1)\n",
        "print(test_x_3c.shape) \n"
      ]
    },
    {
      "cell_type": "code",
      "execution_count": null,
      "metadata": {
        "colab": {
          "background_save": true
        },
        "id": "DiJQadPyavCp",
        "outputId": "b52213d3-d7d1-4713-994a-cb8cd8cf0bdc"
      },
      "outputs": [
        {
          "name": "stdout",
          "output_type": "stream",
          "text": [
            "Downloading data from https://storage.googleapis.com/tensorflow/keras-applications/resnet/resnet101_weights_tf_dim_ordering_tf_kernels_notop.h5\n",
            "171446536/171446536 [==============================] - 7s 0us/step\n"
          ]
        }
      ],
      "source": [
        "# Bring in Resnet101 and make it untrainable\n",
        "# Add more trainable layers\n",
        "\n",
        "pretrained_model = keras.applications.ResNet101(include_top=False, input_shape=(208,176,3))\n",
        "pretrained_model.trainable = False\n",
        "\n",
        "model_tl = keras.Sequential([\n",
        "    pretrained_model,\n",
        "    Flatten(),\n",
        "    Dense(128, activation='relu'),\n",
        "    Dropout(0.4),\n",
        "    Dense(4, activation='softmax')\n",
        "])\n"
      ]
    },
    {
      "cell_type": "code",
      "execution_count": null,
      "metadata": {
        "colab": {
          "background_save": true
        },
        "id": "9vaSveIUayR0",
        "outputId": "dd70f937-50e3-4ecf-deaf-8a5c1d38185a"
      },
      "outputs": [
        {
          "name": "stdout",
          "output_type": "stream",
          "text": [
            "Epoch 1/10\n",
            "410/410 [==============================] - 1179s 3s/step - loss: 2.2620 - auc: 0.7354 - accuracy: 0.4858 - categorical_accuracy: 0.4858 - val_loss: 1.2238 - val_auc: 0.7777 - val_accuracy: 0.4854 - val_categorical_accuracy: 0.4854\n",
            "Epoch 2/10\n",
            "271/410 [==================>...........] - ETA: 5:18 - loss: 1.1924 - auc: 0.7756 - accuracy: 0.4993 - categorical_accuracy: 0.4993"
          ]
        }
      ],
      "source": [
        "# Compiling and fitting transfer learning model default (epochs = 50)\n",
        "\n",
        "model_tl.compile(optimizer='adam', loss=keras.losses.CategoricalCrossentropy(),metrics=['AUC','accuracy','categorical_accuracy'])\n",
        "checkpoint_tl = ModelCheckpoint(\"checkpoint_model_tl_res.h5\", save_best_only=True)\n",
        "es_tl = EarlyStopping(monitor='val_loss', mode='min', patience=10, restore_best_weights=True, verbose=1)\n",
        "\n",
        "history_tl = model_tl.fit(train_x_3c, train_y, validation_data=(val_x_3c, val_y), batch_size=10, epochs = 10, callbacks=[es_tl, checkpoint_tl])\n"
      ]
    },
    {
      "cell_type": "code",
      "execution_count": null,
      "metadata": {
        "id": "yfPnlz7va4il"
      },
      "outputs": [],
      "source": [
        "# Plot accuracy and loss curves\n",
        "\n",
        "plt.plot(history_tl.history['categorical_accuracy'], label=\"Training Accuracy\")\n",
        "plt.plot(history_tl.history['val_categorical_accuracy'], label=\"Validation Accuracy\")\n",
        "plt.legend(loc=\"best\")\n",
        "plt.show()\n",
        "plt.plot(history_tl.history['loss'], label=\"Training Loss\")\n",
        "plt.plot(history_tl.history['val_loss'], label=\"Validation Loss\")\n",
        "plt.legend(loc=\"best\")\n",
        "plt.show()\n"
      ]
    },
    {
      "cell_type": "code",
      "execution_count": null,
      "metadata": {
        "id": "5kQB_84ma-ny"
      },
      "outputs": [],
      "source": [
        "# Evaluate model and build confusion matrix\n",
        "\n",
        "test_results_tl = model_tl.evaluate(x=test_x_3c, y=test_y)\n",
        "\n",
        "pred_test_tl = model_tl.predict(test_x_3c, verbose = 1)\n",
        "pred_test_tl = onehot.inverse_transform(pred_test_tl)\n",
        "\n",
        "real_val = onehot.inverse_transform(test_y)\n",
        "cm_tl = confusion_matrix(real_val, pred_test_tl, labels=['ND', 'VMILD', 'MILD', 'MOD'])\n",
        "cm_tl_df = pd.DataFrame(cm_tl, columns=['ND', 'VMILD', 'MILD', 'MOD'], index=['ND', 'VMILD', 'MILD', 'MOD'])\n",
        "cm_tl_df.columns.name = 'Predicted'\n",
        "cm_tl_df.index.name = 'Actual'\n",
        "sns.heatmap(cm_tl_df, annot=True, fmt='g', cmap='Greens')"
      ]
    },
    {
      "cell_type": "code",
      "execution_count": null,
      "metadata": {
        "id": "w7rxXbaNbEti"
      },
      "outputs": [],
      "source": [
        "##########################################################################\n",
        "# Final CNN\n",
        "#\n",
        "# This model was built from scratch.\n",
        "# The dataset used was after the re-split.\n",
        "##########################################################################\n",
        "\n",
        "# Create CNN\n",
        "\n",
        "classifier = Sequential()\n",
        "classifier.add(Conv2D(64, (5,5), strides=(2,2), padding='valid', activation='relu', input_shape=(208,176,1)))\n",
        "classifier.add(MaxPooling2D(2))\n",
        "classifier.add(Conv2D(128, (5,5), strides=(2,2), padding='valid', activation='relu'))\n",
        "classifier.add(Conv2D(256, (5,5), strides=(2,2), padding='valid', activation='relu'))\n",
        "classifier.add(MaxPooling2D(2))\n",
        "classifier.add(Flatten())\n",
        "classifier.add(Dense(64, activation='relu'))\n",
        "classifier.add(Dropout(0.4))\n",
        "classifier.add(Dense(32, activation='relu'))\n",
        "classifier.add(Dropout(0.4))\n",
        "classifier.add(Dense(4, activation='softmax'))\n",
        "classifier.compile(optimizer='adam', loss=keras.losses.CategoricalCrossentropy(),metrics=['AUC','accuracy','categorical_accuracy'])\n",
        "checkpoint_cb = ModelCheckpoint(\"checkpoint_model.h5\", save_best_only=True)\n",
        "es = EarlyStopping(monitor='val_loss', mode='min', patience=10, restore_best_weights=True, verbose=1)\n",
        "classifier.summary()"
      ]
    },
    {
      "cell_type": "code",
      "execution_count": null,
      "metadata": {
        "id": "mGSczGxkbJAw"
      },
      "outputs": [],
      "source": [
        "# Fit CNN  default(epochs = 50)\n",
        "\n",
        "history = classifier.fit(train_x, train_y, validation_data=(val_x, val_y), batch_size=10, epochs = 10, callbacks=[es, checkpoint_cb])\n"
      ]
    },
    {
      "cell_type": "code",
      "execution_count": null,
      "metadata": {
        "id": "FG45hWGMbLks"
      },
      "outputs": [],
      "source": [
        "# Plot accuracy and loss curves\n",
        "\n",
        "plt.plot(history.history['categorical_accuracy'], label=\"Training Accuracy\")\n",
        "plt.plot(history.history['val_categorical_accuracy'], label=\"Validation Accuracy\")\n",
        "plt.legend(loc=\"best\")\n",
        "plt.show()\n",
        "plt.plot(history.history['loss'], label=\"Training Loss\")\n",
        "plt.plot(history.history['val_loss'], label=\"Validation Loss\")\n",
        "plt.legend(loc=\"best\")\n",
        "plt.show()\n"
      ]
    },
    {
      "cell_type": "code",
      "execution_count": null,
      "metadata": {
        "id": "90YOoIIVbP_I"
      },
      "outputs": [],
      "source": [
        "# Evaluate on test set and create confusion matrix\n",
        "\n",
        "test_results = classifier.evaluate(x=test_x, y=test_y)\n",
        "\n",
        "pred_test = classifier.predict(test_x, verbose = 1)\n",
        "pred_test = onehot.inverse_transform(pred_test)\n",
        "real_val = onehot.inverse_transform(test_y)\n",
        "\n",
        "cm = confusion_matrix(real_val, pred_test, labels=['ND', 'VMILD', 'MILD', 'MOD'])\n",
        "cm_df = pd.DataFrame(cm, columns=['ND', 'VMILD', 'MILD', 'MOD'], index=['ND', 'VMILD', 'MILD', 'MOD'])\n",
        "cm_df.columns.name = 'Predicted'\n",
        "cm_df.index.name = 'Actual'\n",
        "sns.heatmap(cm_df, annot=True, fmt='g', cmap='Greens')"
      ]
    },
    {
      "cell_type": "code",
      "execution_count": null,
      "metadata": {
        "id": "kIduuqCybV0s"
      },
      "outputs": [],
      "source": [
        "##########################################################################\n",
        "# Experimenting with Different Prediction Thresholds\n",
        "#\n",
        "# Here we attempt to modify the thresholds in order to\n",
        "# avoid costly misclassifications.\n",
        "##########################################################################\n",
        "\n",
        "# load in the model checkpoint from the final CNN model\n",
        "\n",
        "model = keras.models.load_model('checkpoint_model.h5')\n",
        "model.compile(optimizer = 'adam', loss='categorical_crossentropy', metrics =['AUC','acc'])\n"
      ]
    },
    {
      "cell_type": "code",
      "execution_count": null,
      "metadata": {
        "id": "qDp6k3sXbaL_"
      },
      "outputs": [],
      "source": [
        "# Recreate confusion matrix with standard classification rules\n",
        "# i.e. predict class with highest probability\n",
        "\n",
        "pred_test = model.predict(x=test_x)\n",
        "pred_test = model.predict(test_x, verbose = 1)\n",
        "pred_test = onehot.inverse_transform(pred_test)\n",
        "real_val = onehot.inverse_transform(test_y)\n",
        "real_val = onehot.inverse_transform(test_y)\n",
        "cm_tl = confusion_matrix(real_val, pred_test, labels=['ND', 'VMILD', 'MILD', 'MOD'])\n",
        "cm_tl_df = pd.DataFrame(cm_tl, columns=['ND', 'VMILD', 'MILD', 'MOD'], index=['ND', 'VMILD', 'MILD', 'MOD'])\n",
        "cm_tl_df.columns.name = 'Predicted'\n",
        "cm_tl_df.index.name = 'Actual'\n",
        "sns.heatmap(cm_tl_df, annot=True, fmt='g', cmap='Greens')"
      ]
    },
    {
      "cell_type": "code",
      "execution_count": null,
      "metadata": {
        "id": "__FjDh7ibex9"
      },
      "outputs": [],
      "source": [
        "# Calculate individual prediction probabilities\n",
        "# This time only predict ND (non-demented) if its probability\n",
        "# is a certain threshold higher than the next highest probability.\n",
        "# In the code below, this threshold is set at 0.9\n",
        "\n",
        "pred_prob = model.predict(test_x)\n",
        "predictions=[]\n",
        "classes=['MILD','MOD','ND','VMILD']\n",
        "for probs in pred_prob:\n",
        "  inds = np.argsort(probs)\n",
        "  if inds[len(inds)-1] != 2:\n",
        "    predictions.append(classes[inds[len(inds)-1]])\n",
        "  else:\n",
        "    index_top = inds[len(inds)-1]\n",
        "    index_second = inds[len(inds)-2]\n",
        "    if probs[index_top] - probs[index_second] < 0.9:\n",
        "      predictions.append(classes[inds[len(inds)-2]])\n",
        "    else:\n",
        "      predictions.append(classes[inds[len(inds)-1]])"
      ]
    },
    {
      "cell_type": "code",
      "execution_count": null,
      "metadata": {
        "id": "4Cz9Barwbw7F"
      },
      "outputs": [],
      "source": [
        "# show new confusion matrix\n",
        "\n",
        "real_val = onehot.inverse_transform(test_y)\n",
        "cm_tl = confusion_matrix(real_val, predictions, labels=['ND', 'VMILD', 'MILD', 'MOD'])\n",
        "cm_tl_df = pd.DataFrame(cm_tl, columns=['ND', 'VMILD', 'MILD', 'MOD'], index=['ND', 'VMILD', 'MILD', 'MOD'])\n",
        "cm_tl_df.columns.name = 'Predicted'\n",
        "cm_tl_df.index.name = 'Actual'\n",
        "sns.heatmap(cm_tl_df, annot=True, fmt='g', cmap='Greens')\n"
      ]
    },
    {
      "cell_type": "code",
      "execution_count": null,
      "metadata": {
        "id": "g6utWK-Yb1eP"
      },
      "outputs": [],
      "source": [
        "##########################################################################\n",
        "# Visualizing the CNN\n",
        "#\n",
        "# In this section, we try to visualize different stages of the CNN\n",
        "# as well as find the most important sections of the images\n",
        "##########################################################################\n",
        "\n",
        "# Prepare data for visualizing activation\n",
        "\n",
        "train_x_tmp = np.array(train_x).reshape(4096,208,176)\n",
        "val_x_tmp = np.array(val_x).reshape(1024,208,176)\n",
        "test_x_tmp = np.array(test_x).reshape(1280,208,176)\n",
        "\n",
        "layer_outputs = [layer.output for layer in model.layers]\n",
        "activation_model = Model(inputs=model.input, outputs=layer_outputs)\n",
        "activations = activation_model.predict(train_x_tmp[0].reshape(1,208,176,1))"
      ]
    },
    {
      "cell_type": "code",
      "execution_count": null,
      "metadata": {
        "id": "O9TeMv-Ob6Qy"
      },
      "outputs": [],
      "source": [
        "# Define function to display activation layer\n",
        "\n",
        "def display_activation(activations, col_size, row_size, act_index): \n",
        "    activation = activations[act_index]\n",
        "    activation_index=0\n",
        "    fig, ax = plt.subplots(row_size, col_size, figsize=(row_size*2.5,col_size*1.5))\n",
        "    for row in range(0,row_size):\n",
        "        for col in range(0,col_size):\n",
        "            ax[row][col].imshow(activation[0, :, :, activation_index], cmap='gray')\n",
        "            activation_index += 1\n",
        "\n",
        "# Visualize randomly selected image\n",
        "\n",
        "plt.imshow(train_x[0][:,:,0], cmap='gray')"
      ]
    },
    {
      "cell_type": "code",
      "execution_count": null,
      "metadata": {
        "id": "QTisi8becB8S"
      },
      "outputs": [],
      "source": [
        "# Display activations for each of the three convolutional layers\n",
        "# Will display in 8x8 grid but this can be changed\n",
        "\n",
        "display_activation(activations, 8, 8, 1)\n",
        "display_activation(activations, 8, 8, 2)\n",
        "display_activation(activations, 8, 8, 3)"
      ]
    },
    {
      "cell_type": "code",
      "execution_count": null,
      "metadata": {
        "id": "HWIpa102cGtQ"
      },
      "outputs": [],
      "source": [
        "# Define function to show heatmap of image.\n",
        "# Sections of the image that are more important will be shown with a red overlay\n",
        "# on top of the actual image\n",
        "\n",
        "def show_heatmap(file_path):\n",
        "  img = imread(file_path, as_gray=True)\n",
        "  cv2_imshow(cv2.imread(file_path)) # Visualize image\n",
        "  img = img.astype('float32')\n",
        "  img /= 255\n",
        "  x = image.img_to_array(img)\n",
        "  x=np.reshape(x, (1, 208, 176, 1))\n",
        "  preds = model.predict(x)\n",
        "  with tf.GradientTape() as tape:\n",
        "    last_conv_layer = model.get_layer('conv2d_2')\n",
        "    iterate = Model([model.inputs], [model.output, last_conv_layer.output])\n",
        "    model_out, last_conv_layer = iterate(x)\n",
        "    class_out = model_out[:, np.argmax(model_out[0])]\n",
        "    grads = tape.gradient(class_out, last_conv_layer)\n",
        "    pooled_grads = keras.backend.mean(grads, axis=(0, 1, 2))\n",
        "  \n",
        "  heatmap = tf.reduce_mean(tf.multiply(pooled_grads, last_conv_layer), axis=-1)\n",
        "  heatmap = np.maximum(heatmap, 0)\n",
        "  heatmap /= np.max(heatmap)\n",
        "  heatmap = heatmap.reshape((10, 8))\n",
        "  plt.matshow(heatmap)\n",
        "  plt.show()\n",
        "\n",
        "  img = cv2.imread(file_path)\n",
        "  INTENSITY = 0.5\n",
        "  heatmap = cv2.resize(heatmap, (img.shape[1], img.shape[0]))\n",
        "  heatmap = cv2.applyColorMap(np.uint8(255*heatmap), cv2.COLORMAP_JET)\n",
        "  img = heatmap * INTENSITY + img\n",
        "\n",
        "  cv2_imshow(img)"
      ]
    },
    {
      "cell_type": "code",
      "execution_count": null,
      "metadata": {
        "id": "YAJ13OOIcJcE"
      },
      "outputs": [],
      "source": [
        "# Show heatmap for image\n",
        "# show_heatmap takes a file path as a parameter\n",
        "\n",
        "show_heatmap('/content/Alzheimer_Dataset/train/ModerateDemented/moderateDem1.jpg')"
      ]
    }
  ],
  "metadata": {
    "colab": {
      "provenance": [],
      "include_colab_link": true
    },
    "kernelspec": {
      "display_name": "Python 3",
      "name": "python3"
    },
    "language_info": {
      "name": "python"
    }
  },
  "nbformat": 4,
  "nbformat_minor": 0
}